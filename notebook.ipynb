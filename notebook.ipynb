{
  "cells": [
    {
      "metadata": {
        "_cell_guid": "e3c05da4-fcaf-4195-b3be-7eb0a535df54",
        "collapsed": true,
        "_uuid": "ec188f57e823a8285ca63d1de3190fd5cb9b2edd",
        "trusted": false
      },
      "cell_type": "code",
      "source": "#package for data reading and manipulation\nimport pandas as pa",
      "execution_count": null,
      "outputs": []
    },
    {
      "metadata": {
        "_cell_guid": "128496f1-80d6-4517-b673-a2796858a7db",
        "collapsed": true,
        "_uuid": "5bfb362ab6def403ca3469e03898fc4a613e12f0",
        "trusted": false
      },
      "cell_type": "code",
      "source": "#package for hstacking\nfrom scipy.sparse import hstack",
      "execution_count": null,
      "outputs": []
    },
    {
      "metadata": {
        "_cell_guid": "abae0c3e-ea9d-4f39-a50f-568da862fa1c",
        "collapsed": true,
        "_uuid": "3d6616c1461648a74188a8cf3a2a59c198f4bf58",
        "trusted": false
      },
      "cell_type": "code",
      "source": "#package for Ridge regression\nfrom sklearn.linear_model import Ridge",
      "execution_count": null,
      "outputs": []
    },
    {
      "metadata": {
        "_cell_guid": "a85f42b7-7d4e-4696-a1b9-417909d839d5",
        "collapsed": true,
        "_uuid": "78e3fa3f06632c7cb2111595cf4f18d33bfd0747",
        "trusted": false
      },
      "cell_type": "code",
      "source": "#package for Stopwords\nfrom nltk.corpus import stopwords\nstop_words = set (stopwords.words('english'))",
      "execution_count": null,
      "outputs": []
    },
    {
      "metadata": {
        "_cell_guid": "9ad87bda-c12e-49e9-8971-3805ab1174d6",
        "collapsed": true,
        "_uuid": "87fce1f6c23ed121370bee95746a1185aa4f461d",
        "trusted": false
      },
      "cell_type": "code",
      "source": "#package for Stemming\nfrom nltk.stem.porter import PorterStemmer\nstemmer = PorterStemmer()",
      "execution_count": null,
      "outputs": []
    },
    {
      "metadata": {
        "_cell_guid": "129854ee-29d7-45c9-a1e2-b85251708d7e",
        "collapsed": true,
        "_uuid": "87ec5d71347c022c8f91a6ea9b9eb52401fb4b83",
        "trusted": false
      },
      "cell_type": "code",
      "source": "#package for Vectorizing\nfrom sklearn.feature_extraction.text import TfidfVectorizer\nvectorizer = TfidfVectorizer(min_df=10)",
      "execution_count": null,
      "outputs": []
    },
    {
      "metadata": {
        "_cell_guid": "f440dfc2-43d7-4c03-a269-b5247ce65ef0",
        "collapsed": true,
        "_uuid": "38e491d48f86d658597e8110c43d27622e4155da",
        "trusted": false
      },
      "cell_type": "code",
      "source": "#package for Label encoding\nfrom sklearn.preprocessing import LabelEncoder\nle = LabelEncoder()",
      "execution_count": null,
      "outputs": []
    },
    {
      "metadata": {
        "_cell_guid": "a7435ab0-46d9-45ef-a9b5-e3d276ab0084",
        "collapsed": true,
        "_uuid": "a8baece9dcce2b722b8b6762ad5148900267ddec",
        "trusted": false
      },
      "cell_type": "code",
      "source": "#reading the train data\ntrain =pa.read_table(\"../input/train.tsv\")",
      "execution_count": null,
      "outputs": []
    },
    {
      "metadata": {
        "_cell_guid": "f63674bf-2823-46b7-976c-e207e19eddc3",
        "_uuid": "6cb1ec8d9cd8c6f5b45bc5ae27a8f227da73cc78",
        "trusted": false,
        "collapsed": true
      },
      "cell_type": "code",
      "source": "#reading the test data\ntest=pa.read_table(\"../input/test.tsv\")",
      "execution_count": null,
      "outputs": []
    },
    {
      "metadata": {
        "_cell_guid": "e85f9ef4-d493-470b-8531-2c56a5983160",
        "_uuid": "b8d535131ffc191edb8d6a37b0f83887dd0c69dd",
        "trusted": false,
        "collapsed": true
      },
      "cell_type": "code",
      "source": "#Viewing the  missing values\ntrain.isnull().sum()",
      "execution_count": null,
      "outputs": []
    },
    {
      "metadata": {
        "_cell_guid": "e9630602-2206-4742-8abc-fa3c53cd15d2",
        "collapsed": true,
        "_uuid": "5da039c3b3dae98a2936d0ee43392f9b5aa96415",
        "trusted": false
      },
      "cell_type": "code",
      "source": "#handling the missing values for the train data\ntrain[\"category_name\"].fillna(value='missing/missing/missing', inplace=True)\ntrain[\"brand_name\"].fillna(value=\"missing\", inplace=True)\ntrain[\"item_description\"].fillna(value=\"No description yet\", inplace =True)",
      "execution_count": null,
      "outputs": []
    },
    {
      "metadata": {
        "_cell_guid": "3cee8ced-12f1-4d46-b233-8b71ed5c3037",
        "collapsed": true,
        "_uuid": "a67c1756f18561e2fb2120757f5aa323e9532fa1",
        "trusted": false
      },
      "cell_type": "code",
      "source": "#handling the missing values for the test data\ntest[\"category_name\"].fillna(value='missing/missing/missing', inplace=True)\ntest[\"brand_name\"].fillna(value=\"missing\", inplace=True)\ntest[\"item_description\"].fillna(value=\"No description yet\", inplace =True)",
      "execution_count": null,
      "outputs": []
    },
    {
      "metadata": {
        "_cell_guid": "fd1d757e-906c-46d3-a5a2-459830caa4a7",
        "collapsed": true,
        "_uuid": "eaf059f95dae5fe5d2589e5f5a854f6c6740b162",
        "trusted": false
      },
      "cell_type": "code",
      "source": "#Splitting the category column into category_main, category_sub1, category_sub2 for train data\ntrain['category_main']=train.category_name.str.split(\"/\").str.get(0)\ntrain['category_sub1']=train.category_name.str.split(\"/\").str.get(1)\ntrain['category_sub2']=train.category_name.str.split(\"/\").str.get(2)",
      "execution_count": null,
      "outputs": []
    },
    {
      "metadata": {
        "_cell_guid": "237358b0-b2ee-4fb9-a19c-84f3d8ad7ad9",
        "collapsed": true,
        "_uuid": "9ebce879c9ecb21a6b84ef254193c4a9c5849ec7",
        "trusted": false
      },
      "cell_type": "code",
      "source": "#Splitting the category column into category_main, category_sub1, category_sub2 for test data\ntest['category_main']=test.category_name.str.split(\"/\").str.get(0)\ntest['category_sub1']=test.category_name.str.split(\"/\").str.get(1)\ntest['category_sub2']=test.category_name.str.split(\"/\").str.get(2)",
      "execution_count": null,
      "outputs": []
    },
    {
      "metadata": {
        "_cell_guid": "7ed92136-e7b5-4f3f-844b-59d786fcd3dd",
        "collapsed": true,
        "_uuid": "0369d7f6f1673990a3676361e9063eb4ff23440f",
        "trusted": false
      },
      "cell_type": "code",
      "source": "#Removing the punctuations and numbers leaving out only alphabets\ntrain['item_description']=train['item_description'].replace('[^a-zA-Z]', ' ', regex = True)\ntest['item_description']=test['item_description'].replace('[^a-zA-Z]', ' ', regex = True)",
      "execution_count": null,
      "outputs": []
    },
    {
      "metadata": {
        "_cell_guid": "ca9a3f1a-50db-4a30-b19a-204e2be7909f",
        "collapsed": true,
        "_uuid": "da04faea38c59b8b0defb72722cc076d405ad761",
        "trusted": false
      },
      "cell_type": "code",
      "source": "#function to remove stop words and tokenizing it\ndef stop(txt):\n    words = [w for w in txt.split(\" \") if not w in stop_words and len(w)>2]\n    return words",
      "execution_count": null,
      "outputs": []
    },
    {
      "metadata": {
        "_cell_guid": "bd3f6f15-74aa-46d5-8bc4-960592b59975",
        "collapsed": true,
        "_uuid": "b08fe74b6056f32afb919c0dc1ca465e2ea0b4a2",
        "trusted": false
      },
      "cell_type": "code",
      "source": "#removing stop words and tokenizing the item_description\ntrain['tokens']=train['item_description'].map(lambda x:stop(x))\ntest['tokens']=test['item_description'].map(lambda x:stop(x))",
      "execution_count": null,
      "outputs": []
    },
    {
      "metadata": {
        "_cell_guid": "3474db4b-d87c-42bf-8c4d-34ce21a7e719",
        "collapsed": true,
        "_uuid": "20dd9f4610b5fe408e232edad4df8c8c2c08a970",
        "trusted": false
      },
      "cell_type": "code",
      "source": "#Function to stem\ndef stemm(text):\n    stemmed=[stemmer.stem(w) for w in text]\n    return stemmed",
      "execution_count": null,
      "outputs": []
    },
    {
      "metadata": {
        "_cell_guid": "ace11046-584c-45dc-895d-f542006feb1d",
        "collapsed": true,
        "_uuid": "a82217f4c22a562f4e95b38a381200b555ed8b0d",
        "trusted": false
      },
      "cell_type": "code",
      "source": "#Stemming the tokenized data\ntrain['stemmed']=train['tokens'].map(lambda x: stemm(x))\ntest['stemmed']=test['tokens'].map(lambda x: stemm(x))",
      "execution_count": null,
      "outputs": []
    },
    {
      "metadata": {
        "_cell_guid": "0f1525ea-f0d8-4d54-937f-b3bbc94092cb",
        "collapsed": true,
        "_uuid": "82e8f621c464ee7a1ac78c769f2c1b28302d9a64",
        "trusted": false
      },
      "cell_type": "code",
      "source": "#Function to join the stemmed tokens into a complete sentence\ndef join(txt):\n    joinedtext=' '.join(word for word in txt)\n    return joinedtext",
      "execution_count": null,
      "outputs": []
    },
    {
      "metadata": {
        "_cell_guid": "c2554e50-5cf7-4769-9048-aeccc1fd512a",
        "collapsed": true,
        "_uuid": "7288f10835023c6d3cee7a016f41e9269ac833d0",
        "trusted": false
      },
      "cell_type": "code",
      "source": "#Joining the stemmed tokenized data into a sentence, so that it can be vectorized\ntrain['final_desc']=train['stemmed'].map(lambda x: join(x))\ntest['final_desc']=test['stemmed'].map(lambda x: join(x))",
      "execution_count": null,
      "outputs": []
    },
    {
      "metadata": {
        "_cell_guid": "9f87e748-1ab5-4fb9-bcb7-f123920f3bf6",
        "collapsed": true,
        "_uuid": "53d1d0b9bc3736607e6e857755b9a0b2a8693ef0",
        "trusted": false
      },
      "cell_type": "code",
      "source": "#Tf-idf vectorization of the final description column\nX_tfidf = vectorizer.fit_transform(train['final_desc'])\nY_tfidf = vectorizer.transform(test['final_desc'])",
      "execution_count": null,
      "outputs": []
    },
    {
      "metadata": {
        "_cell_guid": "c79ad492-eace-4d38-99e5-6717b95a6657",
        "collapsed": true,
        "_uuid": "a974e34dc54a77c48e672342a88eced52a6910fe",
        "trusted": false
      },
      "cell_type": "code",
      "source": "#length of the description is taken into ‘desc_len’\ntrain['desc_len']=train['tokens'].map(lambda x: len(x))\ntest['desc_len']=test['tokens'].map(lambda x: len(x))",
      "execution_count": null,
      "outputs": []
    },
    {
      "metadata": {
        "_cell_guid": "6e0d087e-01a7-4f2b-b86c-8a41b3458bd0",
        "collapsed": true,
        "_uuid": "671722368649be00b2fa095e2faf1c35a9ff6fe6",
        "trusted": false
      },
      "cell_type": "code",
      "source": "#length of the name column is taken into ‘name_len’\n#train['name_len']=train['name'].map(lambda x: len(x))\n#test['name_len']=test['name'].map(lambda x: len(x))",
      "execution_count": null,
      "outputs": []
    },
    {
      "metadata": {
        "_cell_guid": "2ac21333-0e49-4125-a615-060068feaa99",
        "collapsed": true,
        "_uuid": "c438d2ce8eb859266343ffa33256af203ee646eb",
        "trusted": false
      },
      "cell_type": "code",
      "source": "#label encoding the columns 'name', \"brand_name\", \"category_main\", \"category_sub1\", and #\"category_sub2\"\ncategorical_cols=[\"brand_name\",\"category_main\",\"category_sub1\",\"category_sub2\"]\nfor col in categorical_cols:\n    train[col] = le.fit_transform(train[col])",
      "execution_count": null,
      "outputs": []
    },
    {
      "metadata": {
        "_cell_guid": "458021ab-416d-4c3f-ae49-01ebdcf6892d",
        "collapsed": true,
        "_uuid": "df8e7f44d7de3b3e63a1d3f35752cc917354386d",
        "trusted": false
      },
      "cell_type": "code",
      "source": "#label encoding the test data's categorical columns\nfor col in categorical_cols:\n    test[col] = le.fit_transform(test[col])",
      "execution_count": null,
      "outputs": []
    },
    {
      "metadata": {
        "_cell_guid": "e12f4f7c-dad0-49f1-849c-fb9186d7dbdd",
        "collapsed": true,
        "_uuid": "917e47a696f3d18efe7a2be29bcb8fe97ee945d2",
        "trusted": false
      },
      "cell_type": "code",
      "source": "#The target column ‘price’ is stored in y\ntrain_target = train['price']",
      "execution_count": null,
      "outputs": []
    },
    {
      "metadata": {
        "_cell_guid": "72a36016-e05b-467a-95dd-cf679103c36c",
        "collapsed": true,
        "_uuid": "cbf40105e282aebe5a7c61390ea1265df1ee2680",
        "trusted": false
      },
      "cell_type": "code",
      "source": "train.head(1)",
      "execution_count": null,
      "outputs": []
    },
    {
      "metadata": {
        "_cell_guid": "cce132d3-1756-428d-84e5-280dd4f677f1",
        "collapsed": true,
        "_uuid": "594427fdadda235df1e112387dd1c9c833d802c6",
        "trusted": false
      },
      "cell_type": "code",
      "source": "test.head(1)",
      "execution_count": null,
      "outputs": []
    },
    {
      "metadata": {
        "_cell_guid": "f1b3cee6-a225-40bc-8e41-7a2a26e5c54f",
        "collapsed": true,
        "_uuid": "fa7aca7aea506d81f0f1ea527f59e01dd64f7068",
        "trusted": false
      },
      "cell_type": "code",
      "source": "#dropping the unimportant columns\ntrain1=train.drop(train.columns[[0,1,3,5,7,11,12,13]],axis=1)\ntest1=test.drop(test.columns[[0,1,3,6,10,11,12]],axis=1)",
      "execution_count": null,
      "outputs": []
    },
    {
      "metadata": {
        "_cell_guid": "266995de-5622-4b00-90f7-438b8734ebd4",
        "collapsed": true,
        "_uuid": "2a0a16973106835c6ef16f57a463d889cdcab017",
        "trusted": false
      },
      "cell_type": "code",
      "source": "train1.head(1)",
      "execution_count": null,
      "outputs": []
    },
    {
      "metadata": {
        "_cell_guid": "f8fb60c3-ad2c-43aa-8c5c-003a2e5ad32a",
        "collapsed": true,
        "_uuid": "d4f789fd6934945a547177a9a5e1bd22bca32a36",
        "trusted": false
      },
      "cell_type": "code",
      "source": "test1.head(1)",
      "execution_count": null,
      "outputs": []
    },
    {
      "metadata": {
        "_cell_guid": "48d46c95-8a41-48e3-9117-9fa87fe49479",
        "collapsed": true,
        "_uuid": "155b4ca21f31da516f36f96d402483aa3ffebfd6",
        "trusted": false
      },
      "cell_type": "code",
      "source": "#hstacking the tfidf vectorized features with the train data.\nX_train = hstack([X_tfidf,train1])\nY_test = hstack([Y_tfidf,test1])",
      "execution_count": null,
      "outputs": []
    },
    {
      "metadata": {
        "_cell_guid": "d2616982-fa6a-4535-a5d7-8882a65ec6d3",
        "collapsed": true,
        "_uuid": "bb64e644e0f68f432d38658c8444eac97f7603cb",
        "trusted": false
      },
      "cell_type": "code",
      "source": "#model creation\nregr = Ridge(alpha=1.0, random_state=241)\nimport time\nstart=time.clock()\nregr.fit(X_train, train_target)\nprint(time.clock()-start)",
      "execution_count": null,
      "outputs": []
    },
    {
      "metadata": {
        "_cell_guid": "ff8b96a0-cfb0-43d5-b345-ed9686efdd50",
        "collapsed": true,
        "_uuid": "219bbbfb7c079937b5281b9e9e1415dedcbfc964",
        "trusted": false
      },
      "cell_type": "code",
      "source": "#model prediction\nimport time\nstart=time.clock()\nrslt=regr.predict(Y_test)\nprint(time.clock()-start)",
      "execution_count": null,
      "outputs": []
    },
    {
      "metadata": {
        "_cell_guid": "60462765-51e8-4bfc-b57c-a0dacc5d8033",
        "collapsed": true,
        "_uuid": "dfc1e08b3907c5da102f9ff7934210b183f91c30",
        "trusted": false
      },
      "cell_type": "code",
      "source": "#saving the predictied file into result.csv\nrslt1=pa.DataFrame(rslt)\nrslt1.columns=[\"price\"]\nrslt1[\"test_id\"]=rslt1.index\nrslt1.to_csv(\"sample_submission.csv\", encoding='utf-8', index=False)",
      "execution_count": null,
      "outputs": []
    }
  ],
  "metadata": {
    "kernelspec": {
      "display_name": "Python 3",
      "language": "python",
      "name": "python3"
    },
    "language_info": {
      "file_extension": ".py",
      "nbconvert_exporter": "python",
      "version": "3.6.4",
      "mimetype": "text/x-python",
      "pygments_lexer": "ipython3",
      "name": "python",
      "codemirror_mode": {
        "name": "ipython",
        "version": 3
      }
    }
  },
  "nbformat": 4,
  "nbformat_minor": 1
}